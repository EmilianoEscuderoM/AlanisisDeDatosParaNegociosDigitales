{
 "cells": [
  {
   "cell_type": "markdown",
   "metadata": {},
   "source": [
    "# Listas\n",
    "\n",
    "Los elementos dentro de una lista pueden tener diferentes tipos. Algunos de ellos pueden ser enteros, otros son flotantes y otros pueden ser listas.\n",
    "\n",
    "```python\n",
    "    numbers = [10, 5, 7, 2, 1]\n",
    "```\n",
    "Python ha adoptado una convención que indica que los elementos de una lista están siempre numerados desde cero. Esto significa que el elemento almacenado al principio de la lista tendrá el número cero. Como hay cinco elementos en nuestra lista, al último de ellos se le asigna el número cuatro. No olvides esto.\n",
    "\n",
    "Nuestra lista es una colección de elementos, pero cada elemento es un escalar."
   ]
  },
  {
   "cell_type": "code",
   "execution_count": 1,
   "metadata": {},
   "outputs": [
    {
     "name": "stdout",
     "output_type": "stream",
     "text": [
      "Mi primer lista en Python es: [10, True, 14.25, 'hola', 12]\n",
      "El valor de la posicion 0: 10\n",
      "El valor de la posicion 4: 12\n",
      "El valor de la posicion 4: 12\n",
      "El valor de la posicion 2: True\n"
     ]
    }
   ],
   "source": [
    "x=[10,True,14.25,'hola',3*4]\n",
    "print(f'Mi primer lista en Python es: {x}')\n",
    "print(f'El valor de la posicion 0: {x[0]}')\n",
    "print(f'El valor de la posicion 4: {x[4]}')\n",
    "print(f'El valor de la posicion 4: {x[-1]}')\n",
    "print(f'El valor de la posicion 2: {x[-4]}')"
   ]
  },
  {
   "cell_type": "markdown",
   "metadata": {},
   "source": [
    "# Indexación de Listas\n",
    "\n",
    "Vamos a asignar un nuevo valor de 111 al primer elemento en la lista. Lo hacemos de esta manera:"
   ]
  },
  {
   "cell_type": "code",
   "execution_count": 2,
   "metadata": {},
   "outputs": [
    {
     "name": "stdout",
     "output_type": "stream",
     "text": [
      "Contenido de la lista: [10, 5, 7, 2, 1]\n",
      "Contenido de la lista modificada: [111, 5, 7, 2, 1]\n"
     ]
    }
   ],
   "source": [
    "numbers = [10,5,7,2,1]\n",
    "# imprimir el contenido de la lista original\n",
    "print(f'Contenido de la lista: {numbers}')\n",
    "#agregar un valor a la lista\n",
    "numbers[0] = 111\n",
    "print(f'Contenido de la lista modificada: {numbers}')"
   ]
  },
  {
   "cell_type": "markdown",
   "metadata": {},
   "source": [
    "Ahora queremos copiar el valor del quinto elemento al segundo elemento ¿Puedes adivinar como hacerlo?"
   ]
  },
  {
   "cell_type": "code",
   "execution_count": 3,
   "metadata": {},
   "outputs": [
    {
     "name": "stdout",
     "output_type": "stream",
     "text": [
      "La lista original es: [10, 5, 7, 2, 1]\n"
     ]
    },
    {
     "ename": "IndexError",
     "evalue": "list index out of range",
     "output_type": "error",
     "traceback": [
      "\u001b[1;31m---------------------------------------------------------------------------\u001b[0m",
      "\u001b[1;31mIndexError\u001b[0m                                Traceback (most recent call last)",
      "Cell \u001b[1;32mIn[3], line 4\u001b[0m\n\u001b[0;32m      2\u001b[0m \u001b[38;5;66;03m# imprimir el contenido de la lista original\u001b[39;00m\n\u001b[0;32m      3\u001b[0m \u001b[38;5;28mprint\u001b[39m(\u001b[38;5;124mf\u001b[39m\u001b[38;5;124m'\u001b[39m\u001b[38;5;124mLa lista original es: \u001b[39m\u001b[38;5;132;01m{\u001b[39;00mnumbers\u001b[38;5;132;01m}\u001b[39;00m\u001b[38;5;124m'\u001b[39m)\n\u001b[1;32m----> 4\u001b[0m numbers[\u001b[38;5;241m0\u001b[39m]\u001b[38;5;241m=\u001b[39m\u001b[43mnumbers\u001b[49m\u001b[43m[\u001b[49m\u001b[38;5;241;43m111\u001b[39;49m\u001b[43m]\u001b[49m\n\u001b[0;32m      5\u001b[0m \u001b[38;5;28mprint\u001b[39m(\u001b[38;5;124mf\u001b[39m\u001b[38;5;124m'\u001b[39m\u001b[38;5;124mContenido de la lista nueva: \u001b[39m\u001b[38;5;132;01m{\u001b[39;00mnumbers\u001b[38;5;132;01m}\u001b[39;00m\u001b[38;5;124m'\u001b[39m)\n\u001b[0;32m      6\u001b[0m \u001b[38;5;66;03m# Copia del valor del quinto elemento al segundo elemento\u001b[39;00m\n",
      "\u001b[1;31mIndexError\u001b[0m: list index out of range"
     ]
    }
   ],
   "source": [
    "numbers = [10,5,7,2,1]\n",
    "# imprimir el contenido de la lista original\n",
    "print(f'La lista original es: {numbers}')\n",
    "numbers[0]=numbers[111]\n",
    "print(f'Contenido de la lista nueva: {numbers}')\n",
    "# Copia del valor del quinto elemento al segundo elemento\n",
    "numbers[1]=numbers[4]\n",
    "# Imprime el contenido dela ultima modificacionde la lista\n",
    "print(f'La lista modificada es: {numbers}')"
   ]
  },
  {
   "cell_type": "markdown",
   "metadata": {},
   "source": [
    "El valor dentro de los corchetes que selecciona un elemento de la lista se llama un índice, mientras que la operación de seleccionar un elemento de la lista se conoce como indexación.\n",
    "\n",
    "Vamos a utilizar la función print() para imprimir el contenido de la lista cada vez que realicemos los cambios. Esto nos ayudará a seguir cada paso con más cuidado y ver que sucede después de una modificación de la lista en particular.\n",
    "\n",
    "Nota: todos los índices utilizados hasta ahora son literales. Sus valores se fijan en el tiempo de ejecución, pero cualquier expresión también puede ser un índice. Esto abre muchas posibilidades."
   ]
  },
  {
   "cell_type": "markdown",
   "metadata": {},
   "source": [
    "# Acceso al contenido de las listas\n",
    "\n",
    "Se puede acceder a cada uno de los elementos de la lista por separado. Por ejemplo, se puede imprimir:"
   ]
  },
  {
   "cell_type": "code",
   "execution_count": null,
   "metadata": {},
   "outputs": [
    {
     "data": {
      "text/plain": [
       "[10, 5, 7, 2, 1]"
      ]
     },
     "execution_count": 4,
     "metadata": {},
     "output_type": "execute_result"
    }
   ],
   "source": [
    "numbers"
   ]
  },
  {
   "cell_type": "code",
   "execution_count": null,
   "metadata": {},
   "outputs": [
    {
     "name": "stdout",
     "output_type": "stream",
     "text": [
      "10\n"
     ]
    }
   ],
   "source": [
    "print(numbers[0])"
   ]
  },
  {
   "cell_type": "code",
   "execution_count": null,
   "metadata": {},
   "outputs": [
    {
     "name": "stdout",
     "output_type": "stream",
     "text": [
      "Contenido de la lista original:  [10, 5, 7, 2, 1]\n",
      "[111, 5, 7, 2, 1]\n",
      "[111, 5, 7, 2, 111]\n"
     ]
    }
   ],
   "source": [
    "numbers =   [10,5,7,2,1]\n",
    "print(\"Contenido de la lista original: \", numbers)\n",
    "\n",
    "numbers[0] = 111\n",
    "\n",
    "print(numbers)\n",
    "\n",
    "numbers[4] = numbers[-5]\n",
    "numbers[4] = numbers[0]\n",
    "\n",
    "print(numbers)"
   ]
  },
  {
   "cell_type": "markdown",
   "metadata": {},
   "source": [
    "## Eliminando elementos de una lista\n",
    "\n",
    "Cualquier elemento de la lista puede ser eliminado en cualquier momento - esto se hace con una instrucción llamada del (eliminar). Nota: es una instrucción, no una función.\n",
    "\n",
    "Tienes que apuntar al elemento que quieres eliminar - desaparecerá de la lista y la longitud de la lista se reducirá en uno.\n",
    "\n",
    "Mira el fragmento de abajo. ¿Puedes adivinar qué output producirá? Ejecuta el programa en el editor y comprueba."
   ]
  },
  {
   "cell_type": "code",
   "execution_count": null,
   "metadata": {},
   "outputs": [
    {
     "data": {
      "text/plain": [
       "[111, 5, 7, 2, 111]"
      ]
     },
     "execution_count": 7,
     "metadata": {},
     "output_type": "execute_result"
    }
   ],
   "source": [
    "numbers"
   ]
  },
  {
   "cell_type": "code",
   "execution_count": null,
   "metadata": {},
   "outputs": [
    {
     "data": {
      "text/plain": [
       "[3, 5, 7, 2, 111]"
      ]
     },
     "execution_count": 8,
     "metadata": {},
     "output_type": "execute_result"
    }
   ],
   "source": [
    "numbers[0] = 3\n",
    "numbers"
   ]
  },
  {
   "cell_type": "code",
   "execution_count": null,
   "metadata": {},
   "outputs": [
    {
     "data": {
      "text/plain": [
       "[3, 5, 7, 2]"
      ]
     },
     "execution_count": 9,
     "metadata": {},
     "output_type": "execute_result"
    }
   ],
   "source": [
    "del numbers[4]\n",
    "numbers"
   ]
  },
  {
   "cell_type": "code",
   "execution_count": null,
   "metadata": {},
   "outputs": [],
   "source": [
    "del numbers"
   ]
  },
  {
   "cell_type": "code",
   "execution_count": null,
   "metadata": {},
   "outputs": [],
   "source": [
    "numbers = [3,5,7,2,111]"
   ]
  },
  {
   "cell_type": "markdown",
   "metadata": {},
   "source": [
    "## Los índices negativos son legales\n",
    "\n",
    "Puede parecer extraño, pero los índices negativos son válidos, y pueden ser muy útiles.\n",
    "\n",
    "Un elemento con un índice igual a -1 es el último en la lista."
   ]
  },
  {
   "cell_type": "code",
   "execution_count": null,
   "metadata": {},
   "outputs": [
    {
     "name": "stdout",
     "output_type": "stream",
     "text": [
      "111\n",
      "2\n",
      "7\n",
      "5\n",
      "3\n"
     ]
    }
   ],
   "source": [
    "print(numbers[-1])\n",
    "print(numbers[-2])\n",
    "print(numbers[-3])\n",
    "print(numbers[-4])\n",
    "print(numbers[-5])"
   ]
  },
  {
   "cell_type": "code",
   "execution_count": null,
   "metadata": {},
   "outputs": [
    {
     "data": {
      "text/plain": [
       "[3, 5, 7, 2, 111]"
      ]
     },
     "execution_count": 16,
     "metadata": {},
     "output_type": "execute_result"
    }
   ],
   "source": [
    "numbers"
   ]
  },
  {
   "cell_type": "code",
   "execution_count": null,
   "metadata": {},
   "outputs": [
    {
     "data": {
      "text/plain": [
       "[3, 5, 111]"
      ]
     },
     "execution_count": 18,
     "metadata": {},
     "output_type": "execute_result"
    }
   ],
   "source": [
    "del numbers[-2]\n",
    "numbers"
   ]
  },
  {
   "cell_type": "code",
   "execution_count": null,
   "metadata": {},
   "outputs": [],
   "source": [
    "hat_list = [1, 2, 3, 4, 5]"
   ]
  },
  {
   "cell_type": "code",
   "execution_count": null,
   "metadata": {},
   "outputs": [
    {
     "name": "stdout",
     "output_type": "stream",
     "text": [
      "La longitud de la tista es: 4\n",
      "[1, 2, 3, 4]\n"
     ]
    }
   ],
   "source": [
    "hat_list = [1, 2, 3, 4, 5] # Esta es una lista existente de números ocultos en el sombrero.\n",
    "# Paso 1: escribe una línea de código que solicite al usuario\n",
    "numero = int(input('Ingresa un numero: '))\n",
    "# reemplazar el número de en medio con un número entero ingresado por el usuario.\n",
    "hat_list[2] = numero\n",
    "# Paso 2: escribe aquí una línea de código que elimine el último elemento de la lista.\n",
    "del hat_list[-1]\n",
    "# Paso 3: escribe aquí una línea de código que imprima la longitud de la lista existente.\n",
    "print(f\"La longitud de la tista es: {len(hat_list)}\")\n",
    "print(hat_list)"
   ]
  },
  {
   "cell_type": "markdown",
   "metadata": {},
   "source": [
    "## Funciones vs métodos\n",
    "Un método es un tipo específico de función - se comporta como una función y se parece a una función, pero difiere en la forma en que actúa y en su estilo de invocación.\n",
    "\n",
    "Una función no pertenece a ningún dato - obtiene datos, puede crear nuevos datos y (generalmente) produce un resultado.\n",
    "\n",
    "Un método hace todas estas cosas, pero también puede cambiar el estado de una entidad seleccionada.\n",
    "\n",
    "Un método es propiedad de los datos para los que trabaja, mientras que una función es propiedad de todo el código.\n",
    "\n",
    "Esto también significa que invocar un método requiere alguna especificación de los datos a partir de los cuales se invoca el método.\n",
    "\n",
    "Puede parecer desconcertante aquí, pero lo trataremos en profundidad cuando profundicemos en la programación orientada a objetos.\n",
    "\n",
    "En general, una invocación de función típica puede tener este aspecto:\n",
    "\n",
    "result = function(arg)\n",
    "\n",
    "La función toma un argumento, hace algo, y devuelve un resultado.\n",
    "\n",
    "Una invocación de un método típico usualmente se ve así:\n",
    "\n",
    "result = data.method(arg)\n",
    "\n",
    "Nota: el nombre del método está precedido por el nombre de los datos que posee el método. A continuación, se agrega un punto, seguido del nombre del método y un par de paréntesis que encierran los argumentos.\n",
    "\n",
    "El método se comportará como una función, pero puede hacer algo más - puede cambiar el estado interno de los datos a partir de los cuales se ha invocado."
   ]
  },
  {
   "cell_type": "code",
   "execution_count": null,
   "metadata": {},
   "outputs": [
    {
     "data": {
      "text/plain": [
       "[3, 5, 111]"
      ]
     },
     "execution_count": 23,
     "metadata": {},
     "output_type": "execute_result"
    }
   ],
   "source": [
    "numbers"
   ]
  },
  {
   "cell_type": "code",
   "execution_count": null,
   "metadata": {},
   "outputs": [],
   "source": []
  },
  {
   "cell_type": "markdown",
   "metadata": {},
   "source": [
    "## Agregando elementos a una lista: append() y insert()\n",
    "\n",
    "Un nuevo elemento puede ser añadido al final de la lista existente:\n",
    "\n",
    "```python\n",
    "list.append(value)\n",
    "\n",
    "```\n",
    "\n",
    "Dicha operación se realiza mediante un método llamado append(). Toma el valor de su argumento y lo coloca al final de la lista que posee el método.\n",
    "\n",
    "La longitud de la lista aumenta en uno.\n",
    "\n",
    "El método insert() es un poco más inteligente - puede agregar un nuevo elemento en cualquier lugar de la lista, no solo al final.\n",
    "\n",
    "```python\n",
    "list.insert(location, value)\n",
    "```\n",
    "\n",
    "Toma dos argumentos:\n",
    "\n",
    "- el primero muestra la ubicación requerida del elemento a insertar; nota: todos los elementos existentes que ocupan ubicaciones a la derecha del nuevo elemento (incluido el que está en la posición indicada) se desplazan a la derecha, para hacer espacio para el nuevo elemento;\n",
    "- el segundo es el elemento a insertar.\n",
    "Observa el código en el editor. Ve como usamos los métodos append() e insert(). Presta atención a lo que sucede después de usar insert(): el primer elemento anterior ahora es el segundo, el segundo el tercero, y así sucesivamente."
   ]
  },
  {
   "cell_type": "code",
   "execution_count": null,
   "metadata": {},
   "outputs": [
    {
     "data": {
      "text/plain": [
       "['Arcadia', True, 'Agapito', 9, 9.8, 10.0]"
      ]
     },
     "execution_count": 25,
     "metadata": {},
     "output_type": "execute_result"
    }
   ],
   "source": [
    "lista = [\"Arcadia\",True,\"Agapito\",9,9.8,10.]\n",
    "lista"
   ]
  },
  {
   "cell_type": "code",
   "execution_count": null,
   "metadata": {},
   "outputs": [
    {
     "data": {
      "text/plain": [
       "['Arcadia', True, 'Agapito', 9, 9.8, 10.0, 'Monico']"
      ]
     },
     "execution_count": 26,
     "metadata": {},
     "output_type": "execute_result"
    }
   ],
   "source": [
    "lista.append(\"Monico\")\n",
    "lista"
   ]
  },
  {
   "cell_type": "code",
   "execution_count": null,
   "metadata": {},
   "outputs": [
    {
     "name": "stdout",
     "output_type": "stream",
     "text": [
      "['Arcadia', True, 'Agapito', 9, 9.8, 10.0, 'Monico', [1, 2, 3, 4, 5], {1, 2, 3, 4, 5}]\n"
     ]
    }
   ],
   "source": [
    "len(lista)\n",
    "lista.append({1,2,3,4,5})\n",
    "len(lista)\n",
    "print(lista)"
   ]
  },
  {
   "cell_type": "code",
   "execution_count": null,
   "metadata": {},
   "outputs": [
    {
     "data": {
      "text/plain": [
       "[1, 2, 3, 4, 5]"
      ]
     },
     "execution_count": 33,
     "metadata": {},
     "output_type": "execute_result"
    }
   ],
   "source": [
    "lista[-1]"
   ]
  },
  {
   "cell_type": "code",
   "execution_count": null,
   "metadata": {},
   "outputs": [
    {
     "data": {
      "text/plain": [
       "[1, 2, 3, 4, 5]"
      ]
     },
     "execution_count": 34,
     "metadata": {},
     "output_type": "execute_result"
    }
   ],
   "source": [
    "n = len(lista) - 1\n",
    "lista[n]"
   ]
  },
  {
   "cell_type": "code",
   "execution_count": null,
   "metadata": {},
   "outputs": [
    {
     "data": {
      "text/plain": [
       "3"
      ]
     },
     "execution_count": 35,
     "metadata": {},
     "output_type": "execute_result"
    }
   ],
   "source": [
    "lista[7][2]"
   ]
  },
  {
   "cell_type": "code",
   "execution_count": null,
   "metadata": {},
   "outputs": [
    {
     "data": {
      "text/plain": [
       "3"
      ]
     },
     "execution_count": 36,
     "metadata": {},
     "output_type": "execute_result"
    }
   ],
   "source": [
    "lista[-1][-3]"
   ]
  },
  {
   "cell_type": "code",
   "execution_count": null,
   "metadata": {},
   "outputs": [
    {
     "name": "stdout",
     "output_type": "stream",
     "text": [
      "['Arcadia', 'Israel', 'Israel', 'Israel', True, 'Agapito', 9, 9.8, 10.0, 'Monico', 'Israel', 'Israel', 'Israel', 'Israel', [1, 2, 3, 4, 5]]\n"
     ]
    }
   ],
   "source": [
    "lista.insert(-1,\"Israel\")\n",
    "print(lista)\n"
   ]
  },
  {
   "cell_type": "code",
   "execution_count": null,
   "metadata": {},
   "outputs": [
    {
     "name": "stdout",
     "output_type": "stream",
     "text": [
      "[1, 2, 3, 4, 5, 6, 7, 8, 9, 10]\n"
     ]
    }
   ],
   "source": [
    "lista2 = []\n",
    "\n",
    "for i in range(10):\n",
    "    lista2.append(i+1)\n",
    "print(lista2)"
   ]
  },
  {
   "cell_type": "code",
   "execution_count": null,
   "metadata": {},
   "outputs": [
    {
     "name": "stdout",
     "output_type": "stream",
     "text": [
      "[10, 9, 8, 7, 6, 5, 4, 3, 2, 1]\n"
     ]
    }
   ],
   "source": [
    "lista2 = []\n",
    "\n",
    "for i in range(10):\n",
    "    lista2.insert(0, i+1)\n",
    "print(lista2)"
   ]
  },
  {
   "cell_type": "markdown",
   "metadata": {},
   "source": [
    "## Haciendo uso de las listas"
   ]
  },
  {
   "cell_type": "code",
   "execution_count": null,
   "metadata": {},
   "outputs": [
    {
     "name": "stdout",
     "output_type": "stream",
     "text": [
      "La lista es: [50, 2, 15] y la suma de los valores es: 67\n"
     ]
    }
   ],
   "source": [
    "# Sumar los valores q estan contenidos en una lista\n",
    "#1. Solicitar cuantos numeros van a ser ingresados a la lista\n",
    "n=int(input(\"Introduce el total de valores para la lista:\"))\n",
    "#2. Llenar la lista con valores numericos introducidos por el usuario\n",
    "numeros = []\n",
    "\n",
    "for i in range(n):\n",
    "    n = int(input(f\"Introduce el valor del numero: {i+1}\"))\n",
    "    numeros.append(n)\n",
    "#3. Sumar los datos que estan en la lista\n",
    "suma = 0\n",
    "\n",
    "for i in numeros:\n",
    "    suma += i\n",
    "# Imprimir la lista y suma\n",
    "\n",
    "print(f\"La lista es: {numeros} y la suma de los valores es: {suma}\")"
   ]
  },
  {
   "cell_type": "code",
   "execution_count": null,
   "metadata": {},
   "outputs": [],
   "source": [
    "def solicitartam():\n",
    "    n=int(input(\"Introduce el total de valores para la lista:\"))\n",
    "    return n"
   ]
  },
  {
   "cell_type": "code",
   "execution_count": null,
   "metadata": {},
   "outputs": [],
   "source": [
    "def llenarValores (numeros, n):\n",
    "    for i in range(n):\n",
    "        n = int(input(f\"Introduce el valor del numero: {i+1}\"))\n",
    "        numeros.append(n)"
   ]
  },
  {
   "cell_type": "code",
   "execution_count": null,
   "metadata": {},
   "outputs": [],
   "source": [
    "def sumar(numeros):\n",
    "    suma = 0\n",
    "    for i in numeros:\n",
    "        suma+=i\n",
    "        return suma"
   ]
  },
  {
   "cell_type": "code",
   "execution_count": null,
   "metadata": {},
   "outputs": [],
   "source": [
    "def imprimir(numeros, suma):\n",
    "    print(f\"La lista es: {numeros} y la suma de los valores es: {suma}\")"
   ]
  },
  {
   "cell_type": "code",
   "execution_count": null,
   "metadata": {},
   "outputs": [
    {
     "name": "stdout",
     "output_type": "stream",
     "text": [
      "La lista es: [1, 2, 3] y la suma de los valores es: 67\n",
      "[1, 2, 3]\n"
     ]
    }
   ],
   "source": [
    "n = solicitartam()\n",
    "lista3=[]\n",
    "llenarValores(lista3,n)\n",
    "sumar(lista3)\n",
    "imprimir(lista3, suma)"
   ]
  },
  {
   "cell_type": "markdown",
   "metadata": {},
   "source": [
    "# Listas en accion\n",
    "\n",
    "Imagina que necesitas reorganizar los elementos de una lista, es decir, revertir el orden de los elementos: el primero y el quinto, así como el segundo y cuarto elementos serán intercambiados. El tercero permanecerá intacto.\n",
    "\n",
    "Pregunta: ¿cómo se pueden intercambiar los valores de dos variables?\n",
    "\n",
    "Echa un vistazo al fragmento:\n",
    "\n",
    "```python\n",
    "variable_1 = 1\n",
    "variable_2 = 2\n",
    "\n",
    "variable_2 = variable_1\n",
    "variable_1 = variable_2\n",
    "```\n",
    "\n",
    "Si haces algo como esto, perderás el valor previamente almacenado en variable_2. Cambiar el orden de las tareas no ayudará. Necesitas una tercera variable que sirva como almacenamiento auxiliar."
   ]
  },
  {
   "cell_type": "code",
   "execution_count": 4,
   "metadata": {},
   "outputs": [
    {
     "name": "stdout",
     "output_type": "stream",
     "text": [
      "1 1\n"
     ]
    }
   ],
   "source": [
    "variable1 = 1\n",
    "variable2 = 2\n",
    "\n",
    "variable2 = variable1\n",
    "variable1 = variable2\n",
    "\n",
    "print(variable1, variable2)"
   ]
  },
  {
   "cell_type": "code",
   "execution_count": 5,
   "metadata": {},
   "outputs": [
    {
     "name": "stdout",
     "output_type": "stream",
     "text": [
      "2 1\n"
     ]
    }
   ],
   "source": [
    "variable1 = 1\n",
    "variable2 = 2\n",
    "\n",
    "aux = variable2\n",
    "variable2 = variable1\n",
    "variable1 = aux\n",
    "\n",
    "print(variable1,variable2)"
   ]
  },
  {
   "cell_type": "code",
   "execution_count": 7,
   "metadata": {},
   "outputs": [
    {
     "name": "stdout",
     "output_type": "stream",
     "text": [
      "2 1\n"
     ]
    }
   ],
   "source": [
    "variable1 = 1\n",
    "variable2 = 2\n",
    "\n",
    "variable1, variable2 = variable2, variable1\n",
    "\n",
    "print(variable1,variable2)"
   ]
  },
  {
   "cell_type": "code",
   "execution_count": 16,
   "metadata": {},
   "outputs": [
    {
     "data": {
      "text/plain": [
       "[5, 3, 8, 1, 10]"
      ]
     },
     "execution_count": 16,
     "metadata": {},
     "output_type": "execute_result"
    }
   ],
   "source": [
    "# Revertir el orden de la lista\n",
    "\n",
    "lista = [10,1,8,3,5]\n",
    "\n",
    "lista[0],lista[4]=lista[4],lista[0]\n",
    "lista[1],lista[3]=lista[3],lista[1]\n",
    "lista\n"
   ]
  },
  {
   "cell_type": "markdown",
   "metadata": {},
   "source": [
    "## LAB   Los fundamentos de las listas: los Beatles\n",
    "\n",
    "\n",
    "\n",
    "Los Beatles fueron uno de los grupos de música más populares de la década de 1960 y la banda más vendida en la historia. Algunas personas los consideran el acto más influyente de la era del rock. De hecho, se incluyeron en la compilación de la revista Time de las 100 personas más influyentes del siglo XX.\n",
    "\n",
    "La banda sufrió muchos cambios de formación, que culminaron en 1962 con la formación de John Lennon, Paul McCartney, George Harrison y Richard Starkey (mejor conocido como Ringo Starr).\n",
    "\n",
    "\n",
    "Escribe un programa que refleje estos cambios y le permita practicar con el concepto de listas. Tu tarea es:\n",
    "\n",
    "- paso 1: crea una lista vacía llamada beatles;\n",
    "- paso 2: emplea el método append() para agregar los siguientes miembros de la banda a la lista: John Lennon, Paul McCartney y George Harrison;\n",
    "- paso 3: emplea el buclefor y el append() para pedirle al usuario que agregue los siguientes miembros de la banda a la lista: Stu Sutcliffe, y Pete Best;\n",
    "- paso 4: usa la instrucción del para eliminar a Stu Sutcliffe y Pete Best de la lista;\n",
    "- paso 5: usa el método insert() para agregar a Ringo Starr al principio de la lista.\n",
    "\n",
    "Por cierto, ¿eres fan de los Beatles? (Los Beatles son una de las bandas favoritas de Greg. Pero espera...¿Quién es Greg?)"
   ]
  },
  {
   "cell_type": "code",
   "execution_count": 25,
   "metadata": {},
   "outputs": [
    {
     "name": "stdout",
     "output_type": "stream",
     "text": [
      "Paso 1: []\n",
      "Paso 2: ['John Lennon', 'Paul McCartney', 'George Harrison']\n",
      "Paso 4: ['John Lennon', 'Paul McCartney', 'George Harrison', 'asfas', 'asfasf', 'asfasfa']\n",
      "Paso 4: ['John Lennon', 'Paul McCartney', 'George Harrison', 'asfas']\n",
      "Paso 5: ['Ringo Starr', 'John Lennon', 'Paul McCartney', 'George Harrison', 'asfas']\n",
      "Los Fav 5\n"
     ]
    }
   ],
   "source": [
    "# paso 1\n",
    "beatles = []\n",
    "print(\"Paso 1:\", beatles)\n",
    "\n",
    "# paso 2\n",
    "beatles.append(\"John Lennon\")\n",
    "beatles.append(\"Paul McCartney\")\n",
    "beatles.append(\"George Harrison\")\n",
    "print(\"Paso 2:\", beatles)\n",
    "\n",
    "# paso 3\n",
    "for i in range(3):\n",
    "    nombre=input(\"Introduce el nombre: \")\n",
    "    beatles.append(nombre)\n",
    "print(\"Paso 4:\", beatles)\n",
    "\n",
    "# paso 4\n",
    "\n",
    "del beatles[-2]\n",
    "del beatles[-1]\n",
    "print(\"Paso 4:\", beatles)\n",
    "\n",
    "# paso 5\n",
    "beatles.insert(0, \"Ringo Starr\")\n",
    "print(\"Paso 5:\", beatles)\n",
    "\n",
    "\n",
    "# probando la longitud de la lista\n",
    "print(\"Los Fav\", len(beatles))\n",
    "\n"
   ]
  }
 ],
 "metadata": {
  "kernelspec": {
   "display_name": "Python 3",
   "language": "python",
   "name": "python3"
  },
  "language_info": {
   "codemirror_mode": {
    "name": "ipython",
    "version": 3
   },
   "file_extension": ".py",
   "mimetype": "text/x-python",
   "name": "python",
   "nbconvert_exporter": "python",
   "pygments_lexer": "ipython3",
   "version": "3.12.3"
  }
 },
 "nbformat": 4,
 "nbformat_minor": 2
}
