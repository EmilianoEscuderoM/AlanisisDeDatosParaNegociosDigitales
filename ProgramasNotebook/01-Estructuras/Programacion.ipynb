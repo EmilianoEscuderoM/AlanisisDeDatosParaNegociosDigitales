{
 "cells": [
  {
   "cell_type": "markdown",
   "metadata": {},
   "source": [
    "## Ejemplo 1"
   ]
  },
  {
   "cell_type": "code",
   "execution_count": 2,
   "metadata": {},
   "outputs": [
    {
     "name": "stdout",
     "output_type": "stream",
     "text": [
      "El numero mayor es 10\n"
     ]
    }
   ],
   "source": [
    "numero1 = int(input(\"Ingresa el primer numero: \"))\n",
    "numero2 = int(input(\"Ingresa el segundo numero: \"))\n",
    "\n",
    "if numero1 > numero2:\n",
    "    numero_mayor = numero1\n",
    "    print(f'El numero mayor es {numero_mayor}')\n",
    "else:\n",
    "    numero_mayor = numero2\n",
    "    print(f'El numero mayor es {numero_mayor}')"
   ]
  },
  {
   "cell_type": "markdown",
   "metadata": {},
   "source": [
    "## Ejemplo 2\n",
    "Encontar el numero mas grande de 3 numeros"
   ]
  },
  {
   "cell_type": "code",
   "execution_count": 3,
   "metadata": {},
   "outputs": [
    {
     "name": "stdout",
     "output_type": "stream",
     "text": [
      "El numero mayor es 60\n"
     ]
    }
   ],
   "source": [
    "#Solicitar 3 numeros enteros\n",
    "\n",
    "n1 = int(input('Escriber el primer numero: '))\n",
    "n2 = int(input('Escriber el segundo numero: '))\n",
    "n3 = int(input('Escriber el tercer numero: '))\n",
    "\n",
    "numero_mayor = n1\n",
    "\n",
    "if n2 > numero_mayor:\n",
    "    numero_mayor = n2 \n",
    "elif n3 > numero_mayor:\n",
    "    numero_mayor = n3\n",
    "\n",
    "print(f'El numero mayor es {numero_mayor}')"
   ]
  },
  {
   "cell_type": "code",
   "execution_count": 6,
   "metadata": {},
   "outputs": [
    {
     "name": "stdout",
     "output_type": "stream",
     "text": [
      "El numero mayor es 6\n"
     ]
    }
   ],
   "source": [
    "n1 = int(input('Escriber el primer numero: '))\n",
    "n2 = int(input('Escriber el segundo numero: '))\n",
    "n3 = int(input('Escriber el tercer numero: '))\n",
    "\n",
    "\n",
    "if n1>n2 and n1>n3:\n",
    "    numero_mayor = n1\n",
    "elif n2>n1 and n2>n3:\n",
    "    numero_mayor = n2\n",
    "else:\n",
    "    numero_mayor = n3\n",
    "\n",
    "print(f'El numero mayor es {numero_mayor}')"
   ]
  },
  {
   "cell_type": "code",
   "execution_count": 16,
   "metadata": {},
   "outputs": [
    {
     "ename": "ValueError",
     "evalue": "invalid literal for int() with base 10: ''",
     "output_type": "error",
     "traceback": [
      "\u001b[1;31m---------------------------------------------------------------------------\u001b[0m",
      "\u001b[1;31mValueError\u001b[0m                                Traceback (most recent call last)",
      "Cell \u001b[1;32mIn[16], line 1\u001b[0m\n\u001b[1;32m----> 1\u001b[0m n1 \u001b[38;5;241m=\u001b[39m \u001b[38;5;28;43mint\u001b[39;49m\u001b[43m(\u001b[49m\u001b[38;5;28;43minput\u001b[39;49m\u001b[43m(\u001b[49m\u001b[38;5;124;43m'\u001b[39;49m\u001b[38;5;124;43mEscriber el primer numero: \u001b[39;49m\u001b[38;5;124;43m'\u001b[39;49m\u001b[43m)\u001b[49m\u001b[43m)\u001b[49m\n\u001b[0;32m      2\u001b[0m n2 \u001b[38;5;241m=\u001b[39m \u001b[38;5;28mint\u001b[39m(\u001b[38;5;28minput\u001b[39m(\u001b[38;5;124m'\u001b[39m\u001b[38;5;124mEscriber el segundo numero: \u001b[39m\u001b[38;5;124m'\u001b[39m))\n\u001b[0;32m      3\u001b[0m n3 \u001b[38;5;241m=\u001b[39m \u001b[38;5;28mint\u001b[39m(\u001b[38;5;28minput\u001b[39m(\u001b[38;5;124m'\u001b[39m\u001b[38;5;124mEscriber el tercer numero: \u001b[39m\u001b[38;5;124m'\u001b[39m))\n",
      "\u001b[1;31mValueError\u001b[0m: invalid literal for int() with base 10: ''"
     ]
    }
   ],
   "source": [
    "n1 = int(input('Escriber el primer numero: '))\n",
    "n2 = int(input('Escriber el segundo numero: '))\n",
    "n3 = int(input('Escriber el tercer numero: '))\n",
    "\n",
    "numero_mayor = n1\n",
    "\n",
    "if n2 > numero_mayor:\n",
    "    numero_mayor = n2\n",
    "if n3 > numero_mayor:\n",
    "    numero_mayor = n3\n",
    "print(f'El numero mayor es {numero_mayor}')"
   ]
  },
  {
   "cell_type": "markdown",
   "metadata": {},
   "source": [
    "## Ejemplo 3"
   ]
  },
  {
   "cell_type": "code",
   "execution_count": 22,
   "metadata": {},
   "outputs": [
    {
     "name": "stdout",
     "output_type": "stream",
     "text": [
      "no, flajkf\n"
     ]
    }
   ],
   "source": [
    "palabra = input('Escribe la palabra: ')\n",
    "\n",
    "\n",
    "if palabra == 'ESPATIFILO':\n",
    "    print(f'!El espatifilo¡ es la mejor planta')\n",
    "elif palabra == 'espatifilo':\n",
    "    print(f'No, quiero un gran espatifilo')\n",
    "else:\n",
    "    print(f'no, ' + palabra)"
   ]
  },
  {
   "cell_type": "markdown",
   "metadata": {},
   "source": [
    "## Ejemplo4"
   ]
  },
  {
   "cell_type": "code",
   "execution_count": 23,
   "metadata": {},
   "outputs": [
    {
     "ename": "SyntaxError",
     "evalue": "invalid syntax (380520700.py, line 3)",
     "output_type": "error",
     "traceback": [
      "\u001b[1;36m  Cell \u001b[1;32mIn[23], line 3\u001b[1;36m\u001b[0m\n\u001b[1;33m    if IPI < 85,528:\u001b[0m\n\u001b[1;37m               ^\u001b[0m\n\u001b[1;31mSyntaxError\u001b[0m\u001b[1;31m:\u001b[0m invalid syntax\n"
     ]
    }
   ],
   "source": [
    "IPI = float(input('Cuales son tus ingresos: '))\n",
    "\n",
    "if IPI < 85,528:\n",
    "    IPI-18/IPI-556.2 = IPI1\n",
    "    print(f'Su exencion fiscal es: ' + IPI1)\n",
    "elif IPI > 85,528:"
   ]
  }
 ],
 "metadata": {
  "kernelspec": {
   "display_name": "Python 3",
   "language": "python",
   "name": "python3"
  },
  "language_info": {
   "codemirror_mode": {
    "name": "ipython",
    "version": 3
   },
   "file_extension": ".py",
   "mimetype": "text/x-python",
   "name": "python",
   "nbconvert_exporter": "python",
   "pygments_lexer": "ipython3",
   "version": "3.12.3"
  }
 },
 "nbformat": 4,
 "nbformat_minor": 2
}
