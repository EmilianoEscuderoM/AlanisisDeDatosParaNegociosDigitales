{
 "cells": [
  {
   "cell_type": "markdown",
   "metadata": {},
   "source": [
    "# Diccionarios\n",
    "\n",
    "El diccionario es otro tipo de estructura de datos de Python. No es una secuencia (pero puede adaptarse fácilmente a un procesamiento secuencial) y además es mutable.\n",
    "\n",
    "Para explicar lo que es un diccionario en Python, es importante comprender de manera literal lo que es un diccionario.\n",
    "\n",
    "## ¿Cómo crear un diccionario?\n",
    "\n",
    "Si deseas asignar algunos pares iniciales a un diccionario, utiliza la siguiente sintaxis:"
   ]
  },
  {
   "cell_type": "code",
   "execution_count": 1,
   "metadata": {},
   "outputs": [],
   "source": [
    "diccionario={\"gato\":\"Rey\",\"Perro\":\"Leia\",\"Caballo\":\"Camcia\"}\n",
    "telefonos = {\"jefe\": 5553455676, \"Suzy\": 23019345}\n",
    "diccionario_vacio = {}"
   ]
  },
  {
   "cell_type": "code",
   "execution_count": 2,
   "metadata": {},
   "outputs": [
    {
     "name": "stdout",
     "output_type": "stream",
     "text": [
      "{'gato': 'Rey', 'Perro': 'Leia', 'Caballo': 'Camcia'}\n",
      "{'jefe': 5553455676, 'Suzy': 23019345}\n",
      "{}\n"
     ]
    }
   ],
   "source": [
    "print(diccionario)\n",
    "print(telefonos)\n",
    "print(diccionario_vacio)"
   ]
  },
  {
   "cell_type": "code",
   "execution_count": 3,
   "metadata": {},
   "outputs": [
    {
     "name": "stdout",
     "output_type": "stream",
     "text": [
      "Rey\n"
     ]
    }
   ],
   "source": [
    "print(diccionario[\"gato\"])"
   ]
  },
  {
   "cell_type": "code",
   "execution_count": 5,
   "metadata": {},
   "outputs": [
    {
     "name": "stdout",
     "output_type": "stream",
     "text": [
      "gato->Rey\n",
      "leon No esta en el diccionario\n",
      "caballo No esta en el diccionario\n"
     ]
    }
   ],
   "source": [
    "dictionary = {\"gato\":\"Rey\",\"Perro\":\"Leia\",\"Caballo\":\"Camcia\"}\n",
    "words = [\"gato\",\"leon\",\"caballo\"]\n",
    "\n",
    "for word in words:\n",
    "    if word in dictionary:\n",
    "        print(word + \"->\" + dictionary[word])\n",
    "    else:\n",
    "        print(word, \"No esta en el diccionario\")"
   ]
  },
  {
   "cell_type": "markdown",
   "metadata": {},
   "source": [
    "# Metodos y funciones de los diccionarios\n",
    "\n",
    "### El método keys()\n",
    "\n",
    "¿Pueden los diccionarios ser examinados utilizando el bucle for, como las listas o tuplas?\n",
    "\n",
    "No y si.\n",
    "\n",
    "No, porque un diccionario no es un tipo de dato secuencial - el bucle for no es útil aquí.\n",
    "\n",
    "Si, porque hay herramientas simples y muy efectivas que pueden adaptar cualquier diccionario a los requerimientos del bucle for (en otras palabras, se construye un enlace intermedio entre el diccionario y una entidad secuencial temporal).\n",
    "\n",
    "El primero de ellos es un método denominado keys(), el cual es parte de todo diccionario. El método retorna o regresa una lista de todas las claves dentro del diccionario. Al tener una lista de claves se puede acceder a todo el diccionario de una manera fácil y útil.\n",
    "\n",
    "A continuación se muestra un ejemplo:"
   ]
  },
  {
   "cell_type": "code",
   "execution_count": 4,
   "metadata": {},
   "outputs": [
    {
     "name": "stdout",
     "output_type": "stream",
     "text": [
      "gato -> Rey\n",
      "Perro -> Leia\n",
      "Caballo -> Camcia\n"
     ]
    }
   ],
   "source": [
    "dictionary = {\"gato\":\"Rey\",\"Perro\":\"Leia\",\"Caballo\":\"Camcia\"}\n",
    "\n",
    "for key in dictionary.keys():\n",
    "    print(key, \"->\", dictionary[key])"
   ]
  },
  {
   "cell_type": "markdown",
   "metadata": {},
   "source": [
    "Otra manera de hacerlo es utilizar el método items(). Este método retorna una lista de tuplas (este es el primer ejemplo en el que las tuplas son mas que un ejemplo de si mismas) donde cada tupla es un par de cada clave con su valor.\n",
    "\n",
    "Así es como funciona:"
   ]
  },
  {
   "cell_type": "code",
   "execution_count": 6,
   "metadata": {},
   "outputs": [
    {
     "name": "stdout",
     "output_type": "stream",
     "text": [
      "gato -> Rey\n",
      "Perro -> Leia\n",
      "Caballo -> Camcia\n"
     ]
    }
   ],
   "source": [
    "dicti = {\"gato\":\"Rey\",\"Perro\":\"Leia\",\"Caballo\":\"Camcia\"}\n",
    "\n",
    "for key, valor in dicti.items():\n",
    "    print(key, \"->\", valor)"
   ]
  },
  {
   "cell_type": "markdown",
   "metadata": {},
   "source": [
    "### Modificar, agregar y eliminar valores\n",
    "\n",
    "El asignar un nuevo valor a una clave existente es sencillo - debido a que los diccionarios son completamente mutables, no existen obstáculos para modificarlos.\n",
    "\n",
    "Se va a reemplazar el valor \"chat\" por \"minou\", lo cual no es muy adecuado, pero funcionará con nuestro ejemplo.\n",
    "\n",
    "Observa:"
   ]
  },
  {
   "cell_type": "code",
   "execution_count": 7,
   "metadata": {},
   "outputs": [
    {
     "name": "stdout",
     "output_type": "stream",
     "text": [
      "{'gato': 'minou', 'Perro': 'Leia', 'Caballo': 'Camcia'}\n"
     ]
    }
   ],
   "source": [
    "#Cambiar el valor de una clave en un diccionario\n",
    "\n",
    "dicti = {\"gato\":\"Rey\",\"Perro\":\"Leia\",\"Caballo\":\"Camcia\"}\n",
    "dicti[\"gato\"]=\"minou\"\n",
    "print(dicti)"
   ]
  },
  {
   "cell_type": "markdown",
   "metadata": {},
   "source": [
    "### La función sorted()\n",
    "\n",
    "¿Deseas que la salida este ordenada? Solo hay que agregar al bucle for lo siguiente:"
   ]
  },
  {
   "cell_type": "code",
   "execution_count": 8,
   "metadata": {},
   "outputs": [
    {
     "name": "stdout",
     "output_type": "stream",
     "text": [
      "[1, 2, 4, 5, 12, 64, 85]\n"
     ]
    }
   ],
   "source": [
    "lista = [12,4,1,64,85,2,5]\n",
    "lista_ordenada = sorted(lista)\n",
    "print(lista_ordenada)"
   ]
  },
  {
   "cell_type": "code",
   "execution_count": 10,
   "metadata": {},
   "outputs": [
    {
     "name": "stdout",
     "output_type": "stream",
     "text": [
      "[85, 64, 12, 5, 4, 2, 1]\n"
     ]
    }
   ],
   "source": [
    "lista = [12,4,1,64,85,2,5]\n",
    "lista_ordenada = sorted(lista, reverse=True)\n",
    "print(lista_ordenada)"
   ]
  },
  {
   "cell_type": "code",
   "execution_count": 15,
   "metadata": {},
   "outputs": [
    {
     "name": "stdout",
     "output_type": "stream",
     "text": [
      "Diccionario ordenado por claves  {'cat': 'gato', 'dog': 'perro', 'fish': 'pez', 'horse': 'caballo'}\n"
     ]
    }
   ],
   "source": [
    "diccionario_nuevo = {\n",
    "    \"cat\":\"gato\",\n",
    "    \"dog\":\"perro\",\n",
    "    \"horse\":\"caballo\",\n",
    "    \"fish\":\"pez\"\n",
    "}\n",
    "diccionario_ordenado_claves = dict(sorted(diccionario_nuevo.items(),reverse=False))\n",
    "print(\"Diccionario ordenado por claves \", diccionario_ordenado_claves)"
   ]
  },
  {
   "cell_type": "code",
   "execution_count": 16,
   "metadata": {},
   "outputs": [
    {
     "name": "stdout",
     "output_type": "stream",
     "text": [
      "Diccionario ordenado por claves  {'horse': 'caballo', 'fish': 'pez', 'dog': 'perro', 'cat': 'gato'}\n"
     ]
    }
   ],
   "source": [
    "diccionario_nuevo = {\n",
    "    \"cat\":\"gato\",\n",
    "    \"dog\":\"perro\",\n",
    "    \"horse\":\"caballo\",\n",
    "    \"fish\":\"pez\"\n",
    "}\n",
    "diccionario_ordenado_claves = dict(sorted(diccionario_nuevo.items(),reverse=True))\n",
    "print(\"Diccionario ordenado por claves \", diccionario_ordenado_claves)"
   ]
  },
  {
   "cell_type": "code",
   "execution_count": 18,
   "metadata": {},
   "outputs": [
    {
     "name": "stdout",
     "output_type": "stream",
     "text": [
      "Diccionario ordenado por clave ['cat', 'dog', 'fish', 'horse']\n"
     ]
    }
   ],
   "source": [
    "#ordenr por clave, pero solo muestra las claves y se ordena de forma ascendente\n",
    "\n",
    "claves_ordenadas = sorted(diccionario_nuevo.keys(), reverse=False)\n",
    "print(\"Diccionario ordenado por clave\", claves_ordenadas)"
   ]
  },
  {
   "cell_type": "code",
   "execution_count": 19,
   "metadata": {},
   "outputs": [
    {
     "name": "stdout",
     "output_type": "stream",
     "text": [
      "Diccionario ordenado por clave ['horse', 'fish', 'dog', 'cat']\n"
     ]
    }
   ],
   "source": [
    "#ordenr por clave, pero solo muestra las claves y se ordena de forma descendete\n",
    "\n",
    "claves_ordenadas = sorted(diccionario_nuevo.keys(), reverse=True)\n",
    "print(\"Diccionario ordenado por clave\", claves_ordenadas)"
   ]
  },
  {
   "cell_type": "markdown",
   "metadata": {},
   "source": [
    "### Agregando nuevas claves\n",
    "\n",
    "El agregar una nueva clave con su valor a un diccionario es tan simple como cambiar un valor. Solo se tiene que asignar un valor a una nueva clave que no haya existido antes.\n",
    "\n",
    "Nota: este es un comportamiento muy diferente comparado a las listas, las cuales no permiten asignar valores a índices no existentes.\n",
    "\n",
    "A continuación se agrega un par nuevo al diccionario - un poco extraño pero válido:"
   ]
  },
  {
   "cell_type": "markdown",
   "metadata": {},
   "source": [
    "### Eliminado una clave\n",
    "\n",
    "¿Puedes deducir como eliminar una clave de un diccionario?\n",
    "\n",
    "Nota: al eliminar la clave también se removerá el valor asociado. Los valores no pueden existir sin sus claves.\n",
    "\n",
    "Esto se logra con la instrucción del.\n",
    "\n",
    "A continuación un ejemplo:"
   ]
  }
 ],
 "metadata": {
  "kernelspec": {
   "display_name": "Python 3",
   "language": "python",
   "name": "python3"
  },
  "language_info": {
   "codemirror_mode": {
    "name": "ipython",
    "version": 3
   },
   "file_extension": ".py",
   "mimetype": "text/x-python",
   "name": "python",
   "nbconvert_exporter": "python",
   "pygments_lexer": "ipython3",
   "version": "3.12.3"
  }
 },
 "nbformat": 4,
 "nbformat_minor": 2
}
